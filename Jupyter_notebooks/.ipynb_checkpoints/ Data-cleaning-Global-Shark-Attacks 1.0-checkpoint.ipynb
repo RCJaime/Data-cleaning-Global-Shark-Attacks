{
 "cells": [
  {
   "cell_type": "code",
   "execution_count": 1,
   "id": "cbd9251a",
   "metadata": {},
   "outputs": [],
   "source": [
    "#cosas a importar\n",
    "import pandas as pd\n",
    "import numpy as np\n",
    "import warnings\n",
    "warnings.filterwarnings('ignore')\n",
    "import pylab as plt    # import matplotlib.pyplot as plt\n",
    "import seaborn as sns\n",
    "import re\n",
    "%matplotlib inline"
   ]
  },
  {
   "cell_type": "code",
   "execution_count": 2,
   "id": "a1af117c",
   "metadata": {},
   "outputs": [
    {
     "data": {
      "text/html": [
       "<div>\n",
       "<style scoped>\n",
       "    .dataframe tbody tr th:only-of-type {\n",
       "        vertical-align: middle;\n",
       "    }\n",
       "\n",
       "    .dataframe tbody tr th {\n",
       "        vertical-align: top;\n",
       "    }\n",
       "\n",
       "    .dataframe thead th {\n",
       "        text-align: right;\n",
       "    }\n",
       "</style>\n",
       "<table border=\"1\" class=\"dataframe\">\n",
       "  <thead>\n",
       "    <tr style=\"text-align: right;\">\n",
       "      <th></th>\n",
       "      <th>Case Number</th>\n",
       "      <th>Date</th>\n",
       "      <th>Year</th>\n",
       "      <th>Type</th>\n",
       "      <th>Country</th>\n",
       "      <th>Area</th>\n",
       "      <th>Location</th>\n",
       "      <th>Activity</th>\n",
       "      <th>Name</th>\n",
       "      <th>Sex</th>\n",
       "      <th>Age</th>\n",
       "      <th>Injury</th>\n",
       "      <th>Fatal (Y/N)</th>\n",
       "      <th>Time</th>\n",
       "      <th>Species</th>\n",
       "      <th>Investigator or Source</th>\n",
       "      <th>pdf</th>\n",
       "      <th>href formula</th>\n",
       "      <th>href</th>\n",
       "      <th>Case Number.1</th>\n",
       "      <th>Case Number.2</th>\n",
       "      <th>original order</th>\n",
       "      <th>Unnamed: 22</th>\n",
       "      <th>Unnamed: 23</th>\n",
       "    </tr>\n",
       "  </thead>\n",
       "  <tbody>\n",
       "    <tr>\n",
       "      <th>0</th>\n",
       "      <td>2018.06.25</td>\n",
       "      <td>25-Jun-2018</td>\n",
       "      <td>2018.0</td>\n",
       "      <td>Boating</td>\n",
       "      <td>USA</td>\n",
       "      <td>California</td>\n",
       "      <td>Oceanside, San Diego County</td>\n",
       "      <td>Paddling</td>\n",
       "      <td>Julie Wolfe</td>\n",
       "      <td>F</td>\n",
       "      <td>57</td>\n",
       "      <td>No injury to occupant, outrigger canoe and pad...</td>\n",
       "      <td>N</td>\n",
       "      <td>18h00</td>\n",
       "      <td>White shark</td>\n",
       "      <td>R. Collier, GSAF</td>\n",
       "      <td>2018.06.25-Wolfe.pdf</td>\n",
       "      <td>http://sharkattackfile.net/spreadsheets/pdf_di...</td>\n",
       "      <td>http://sharkattackfile.net/spreadsheets/pdf_di...</td>\n",
       "      <td>2018.06.25</td>\n",
       "      <td>2018.06.25</td>\n",
       "      <td>6303.0</td>\n",
       "      <td>NaN</td>\n",
       "      <td>NaN</td>\n",
       "    </tr>\n",
       "    <tr>\n",
       "      <th>1</th>\n",
       "      <td>2018.06.18</td>\n",
       "      <td>18-Jun-2018</td>\n",
       "      <td>2018.0</td>\n",
       "      <td>Unprovoked</td>\n",
       "      <td>USA</td>\n",
       "      <td>Georgia</td>\n",
       "      <td>St. Simon Island, Glynn County</td>\n",
       "      <td>Standing</td>\n",
       "      <td>Adyson McNeely</td>\n",
       "      <td>F</td>\n",
       "      <td>11</td>\n",
       "      <td>Minor injury to left thigh</td>\n",
       "      <td>N</td>\n",
       "      <td>14h00  -15h00</td>\n",
       "      <td>NaN</td>\n",
       "      <td>K.McMurray, TrackingSharks.com</td>\n",
       "      <td>2018.06.18-McNeely.pdf</td>\n",
       "      <td>http://sharkattackfile.net/spreadsheets/pdf_di...</td>\n",
       "      <td>http://sharkattackfile.net/spreadsheets/pdf_di...</td>\n",
       "      <td>2018.06.18</td>\n",
       "      <td>2018.06.18</td>\n",
       "      <td>6302.0</td>\n",
       "      <td>NaN</td>\n",
       "      <td>NaN</td>\n",
       "    </tr>\n",
       "    <tr>\n",
       "      <th>2</th>\n",
       "      <td>2018.06.09</td>\n",
       "      <td>09-Jun-2018</td>\n",
       "      <td>2018.0</td>\n",
       "      <td>Invalid</td>\n",
       "      <td>USA</td>\n",
       "      <td>Hawaii</td>\n",
       "      <td>Habush, Oahu</td>\n",
       "      <td>Surfing</td>\n",
       "      <td>John Denges</td>\n",
       "      <td>M</td>\n",
       "      <td>48</td>\n",
       "      <td>Injury to left lower leg from surfboard skeg</td>\n",
       "      <td>N</td>\n",
       "      <td>07h45</td>\n",
       "      <td>NaN</td>\n",
       "      <td>K.McMurray, TrackingSharks.com</td>\n",
       "      <td>2018.06.09-Denges.pdf</td>\n",
       "      <td>http://sharkattackfile.net/spreadsheets/pdf_di...</td>\n",
       "      <td>http://sharkattackfile.net/spreadsheets/pdf_di...</td>\n",
       "      <td>2018.06.09</td>\n",
       "      <td>2018.06.09</td>\n",
       "      <td>6301.0</td>\n",
       "      <td>NaN</td>\n",
       "      <td>NaN</td>\n",
       "    </tr>\n",
       "    <tr>\n",
       "      <th>3</th>\n",
       "      <td>2018.06.08</td>\n",
       "      <td>08-Jun-2018</td>\n",
       "      <td>2018.0</td>\n",
       "      <td>Unprovoked</td>\n",
       "      <td>AUSTRALIA</td>\n",
       "      <td>New South Wales</td>\n",
       "      <td>Arrawarra Headland</td>\n",
       "      <td>Surfing</td>\n",
       "      <td>male</td>\n",
       "      <td>M</td>\n",
       "      <td>NaN</td>\n",
       "      <td>Minor injury to lower leg</td>\n",
       "      <td>N</td>\n",
       "      <td>NaN</td>\n",
       "      <td>2 m shark</td>\n",
       "      <td>B. Myatt, GSAF</td>\n",
       "      <td>2018.06.08-Arrawarra.pdf</td>\n",
       "      <td>http://sharkattackfile.net/spreadsheets/pdf_di...</td>\n",
       "      <td>http://sharkattackfile.net/spreadsheets/pdf_di...</td>\n",
       "      <td>2018.06.08</td>\n",
       "      <td>2018.06.08</td>\n",
       "      <td>6300.0</td>\n",
       "      <td>NaN</td>\n",
       "      <td>NaN</td>\n",
       "    </tr>\n",
       "    <tr>\n",
       "      <th>4</th>\n",
       "      <td>2018.06.04</td>\n",
       "      <td>04-Jun-2018</td>\n",
       "      <td>2018.0</td>\n",
       "      <td>Provoked</td>\n",
       "      <td>MEXICO</td>\n",
       "      <td>Colima</td>\n",
       "      <td>La Ticla</td>\n",
       "      <td>Free diving</td>\n",
       "      <td>Gustavo Ramos</td>\n",
       "      <td>M</td>\n",
       "      <td>NaN</td>\n",
       "      <td>Lacerations to leg &amp; hand shark PROVOKED INCIDENT</td>\n",
       "      <td>N</td>\n",
       "      <td>NaN</td>\n",
       "      <td>Tiger shark, 3m</td>\n",
       "      <td>A .Kipper</td>\n",
       "      <td>2018.06.04-Ramos.pdf</td>\n",
       "      <td>http://sharkattackfile.net/spreadsheets/pdf_di...</td>\n",
       "      <td>http://sharkattackfile.net/spreadsheets/pdf_di...</td>\n",
       "      <td>2018.06.04</td>\n",
       "      <td>2018.06.04</td>\n",
       "      <td>6299.0</td>\n",
       "      <td>NaN</td>\n",
       "      <td>NaN</td>\n",
       "    </tr>\n",
       "    <tr>\n",
       "      <th>...</th>\n",
       "      <td>...</td>\n",
       "      <td>...</td>\n",
       "      <td>...</td>\n",
       "      <td>...</td>\n",
       "      <td>...</td>\n",
       "      <td>...</td>\n",
       "      <td>...</td>\n",
       "      <td>...</td>\n",
       "      <td>...</td>\n",
       "      <td>...</td>\n",
       "      <td>...</td>\n",
       "      <td>...</td>\n",
       "      <td>...</td>\n",
       "      <td>...</td>\n",
       "      <td>...</td>\n",
       "      <td>...</td>\n",
       "      <td>...</td>\n",
       "      <td>...</td>\n",
       "      <td>...</td>\n",
       "      <td>...</td>\n",
       "      <td>...</td>\n",
       "      <td>...</td>\n",
       "      <td>...</td>\n",
       "      <td>...</td>\n",
       "    </tr>\n",
       "    <tr>\n",
       "      <th>25718</th>\n",
       "      <td>NaN</td>\n",
       "      <td>NaN</td>\n",
       "      <td>NaN</td>\n",
       "      <td>NaN</td>\n",
       "      <td>NaN</td>\n",
       "      <td>NaN</td>\n",
       "      <td>NaN</td>\n",
       "      <td>NaN</td>\n",
       "      <td>NaN</td>\n",
       "      <td>NaN</td>\n",
       "      <td>NaN</td>\n",
       "      <td>NaN</td>\n",
       "      <td>NaN</td>\n",
       "      <td>NaN</td>\n",
       "      <td>NaN</td>\n",
       "      <td>NaN</td>\n",
       "      <td>NaN</td>\n",
       "      <td>NaN</td>\n",
       "      <td>NaN</td>\n",
       "      <td>NaN</td>\n",
       "      <td>NaN</td>\n",
       "      <td>NaN</td>\n",
       "      <td>NaN</td>\n",
       "      <td>NaN</td>\n",
       "    </tr>\n",
       "    <tr>\n",
       "      <th>25719</th>\n",
       "      <td>NaN</td>\n",
       "      <td>NaN</td>\n",
       "      <td>NaN</td>\n",
       "      <td>NaN</td>\n",
       "      <td>NaN</td>\n",
       "      <td>NaN</td>\n",
       "      <td>NaN</td>\n",
       "      <td>NaN</td>\n",
       "      <td>NaN</td>\n",
       "      <td>NaN</td>\n",
       "      <td>NaN</td>\n",
       "      <td>NaN</td>\n",
       "      <td>NaN</td>\n",
       "      <td>NaN</td>\n",
       "      <td>NaN</td>\n",
       "      <td>NaN</td>\n",
       "      <td>NaN</td>\n",
       "      <td>NaN</td>\n",
       "      <td>NaN</td>\n",
       "      <td>NaN</td>\n",
       "      <td>NaN</td>\n",
       "      <td>NaN</td>\n",
       "      <td>NaN</td>\n",
       "      <td>NaN</td>\n",
       "    </tr>\n",
       "    <tr>\n",
       "      <th>25720</th>\n",
       "      <td>NaN</td>\n",
       "      <td>NaN</td>\n",
       "      <td>NaN</td>\n",
       "      <td>NaN</td>\n",
       "      <td>NaN</td>\n",
       "      <td>NaN</td>\n",
       "      <td>NaN</td>\n",
       "      <td>NaN</td>\n",
       "      <td>NaN</td>\n",
       "      <td>NaN</td>\n",
       "      <td>NaN</td>\n",
       "      <td>NaN</td>\n",
       "      <td>NaN</td>\n",
       "      <td>NaN</td>\n",
       "      <td>NaN</td>\n",
       "      <td>NaN</td>\n",
       "      <td>NaN</td>\n",
       "      <td>NaN</td>\n",
       "      <td>NaN</td>\n",
       "      <td>NaN</td>\n",
       "      <td>NaN</td>\n",
       "      <td>NaN</td>\n",
       "      <td>NaN</td>\n",
       "      <td>NaN</td>\n",
       "    </tr>\n",
       "    <tr>\n",
       "      <th>25721</th>\n",
       "      <td>NaN</td>\n",
       "      <td>NaN</td>\n",
       "      <td>NaN</td>\n",
       "      <td>NaN</td>\n",
       "      <td>NaN</td>\n",
       "      <td>NaN</td>\n",
       "      <td>NaN</td>\n",
       "      <td>NaN</td>\n",
       "      <td>NaN</td>\n",
       "      <td>NaN</td>\n",
       "      <td>NaN</td>\n",
       "      <td>NaN</td>\n",
       "      <td>NaN</td>\n",
       "      <td>NaN</td>\n",
       "      <td>NaN</td>\n",
       "      <td>NaN</td>\n",
       "      <td>NaN</td>\n",
       "      <td>NaN</td>\n",
       "      <td>NaN</td>\n",
       "      <td>NaN</td>\n",
       "      <td>NaN</td>\n",
       "      <td>NaN</td>\n",
       "      <td>NaN</td>\n",
       "      <td>NaN</td>\n",
       "    </tr>\n",
       "    <tr>\n",
       "      <th>25722</th>\n",
       "      <td>xx</td>\n",
       "      <td>NaN</td>\n",
       "      <td>NaN</td>\n",
       "      <td>NaN</td>\n",
       "      <td>NaN</td>\n",
       "      <td>NaN</td>\n",
       "      <td>NaN</td>\n",
       "      <td>NaN</td>\n",
       "      <td>NaN</td>\n",
       "      <td>NaN</td>\n",
       "      <td>NaN</td>\n",
       "      <td>NaN</td>\n",
       "      <td>NaN</td>\n",
       "      <td>NaN</td>\n",
       "      <td>NaN</td>\n",
       "      <td>NaN</td>\n",
       "      <td>NaN</td>\n",
       "      <td>NaN</td>\n",
       "      <td>NaN</td>\n",
       "      <td>NaN</td>\n",
       "      <td>NaN</td>\n",
       "      <td>NaN</td>\n",
       "      <td>NaN</td>\n",
       "      <td>NaN</td>\n",
       "    </tr>\n",
       "  </tbody>\n",
       "</table>\n",
       "<p>25723 rows × 24 columns</p>\n",
       "</div>"
      ],
      "text/plain": [
       "      Case Number         Date    Year        Type    Country  \\\n",
       "0      2018.06.25  25-Jun-2018  2018.0     Boating        USA   \n",
       "1      2018.06.18  18-Jun-2018  2018.0  Unprovoked        USA   \n",
       "2      2018.06.09  09-Jun-2018  2018.0     Invalid        USA   \n",
       "3      2018.06.08  08-Jun-2018  2018.0  Unprovoked  AUSTRALIA   \n",
       "4      2018.06.04  04-Jun-2018  2018.0    Provoked     MEXICO   \n",
       "...           ...          ...     ...         ...        ...   \n",
       "25718         NaN          NaN     NaN         NaN        NaN   \n",
       "25719         NaN          NaN     NaN         NaN        NaN   \n",
       "25720         NaN          NaN     NaN         NaN        NaN   \n",
       "25721         NaN          NaN     NaN         NaN        NaN   \n",
       "25722          xx          NaN     NaN         NaN        NaN   \n",
       "\n",
       "                  Area                        Location     Activity  \\\n",
       "0           California     Oceanside, San Diego County     Paddling   \n",
       "1              Georgia  St. Simon Island, Glynn County     Standing   \n",
       "2               Hawaii                    Habush, Oahu      Surfing   \n",
       "3      New South Wales              Arrawarra Headland      Surfing   \n",
       "4               Colima                        La Ticla  Free diving   \n",
       "...                ...                             ...          ...   \n",
       "25718              NaN                             NaN          NaN   \n",
       "25719              NaN                             NaN          NaN   \n",
       "25720              NaN                             NaN          NaN   \n",
       "25721              NaN                             NaN          NaN   \n",
       "25722              NaN                             NaN          NaN   \n",
       "\n",
       "                  Name Sex   Age  \\\n",
       "0          Julie Wolfe    F   57   \n",
       "1      Adyson McNeely     F   11   \n",
       "2          John Denges    M   48   \n",
       "3                 male    M  NaN   \n",
       "4       Gustavo Ramos     M  NaN   \n",
       "...                ...  ...  ...   \n",
       "25718              NaN  NaN  NaN   \n",
       "25719              NaN  NaN  NaN   \n",
       "25720              NaN  NaN  NaN   \n",
       "25721              NaN  NaN  NaN   \n",
       "25722              NaN  NaN  NaN   \n",
       "\n",
       "                                                  Injury Fatal (Y/N)  \\\n",
       "0      No injury to occupant, outrigger canoe and pad...           N   \n",
       "1                             Minor injury to left thigh           N   \n",
       "2           Injury to left lower leg from surfboard skeg           N   \n",
       "3                              Minor injury to lower leg           N   \n",
       "4      Lacerations to leg & hand shark PROVOKED INCIDENT           N   \n",
       "...                                                  ...         ...   \n",
       "25718                                                NaN         NaN   \n",
       "25719                                                NaN         NaN   \n",
       "25720                                                NaN         NaN   \n",
       "25721                                                NaN         NaN   \n",
       "25722                                                NaN         NaN   \n",
       "\n",
       "                Time         Species           Investigator or Source  \\\n",
       "0              18h00      White shark                R. Collier, GSAF   \n",
       "1      14h00  -15h00              NaN  K.McMurray, TrackingSharks.com   \n",
       "2              07h45              NaN  K.McMurray, TrackingSharks.com   \n",
       "3                NaN        2 m shark                  B. Myatt, GSAF   \n",
       "4                NaN  Tiger shark, 3m                       A .Kipper   \n",
       "...              ...              ...                             ...   \n",
       "25718            NaN              NaN                             NaN   \n",
       "25719            NaN              NaN                             NaN   \n",
       "25720            NaN              NaN                             NaN   \n",
       "25721            NaN              NaN                             NaN   \n",
       "25722            NaN              NaN                             NaN   \n",
       "\n",
       "                            pdf  \\\n",
       "0          2018.06.25-Wolfe.pdf   \n",
       "1        2018.06.18-McNeely.pdf   \n",
       "2         2018.06.09-Denges.pdf   \n",
       "3      2018.06.08-Arrawarra.pdf   \n",
       "4          2018.06.04-Ramos.pdf   \n",
       "...                         ...   \n",
       "25718                       NaN   \n",
       "25719                       NaN   \n",
       "25720                       NaN   \n",
       "25721                       NaN   \n",
       "25722                       NaN   \n",
       "\n",
       "                                            href formula  \\\n",
       "0      http://sharkattackfile.net/spreadsheets/pdf_di...   \n",
       "1      http://sharkattackfile.net/spreadsheets/pdf_di...   \n",
       "2      http://sharkattackfile.net/spreadsheets/pdf_di...   \n",
       "3      http://sharkattackfile.net/spreadsheets/pdf_di...   \n",
       "4      http://sharkattackfile.net/spreadsheets/pdf_di...   \n",
       "...                                                  ...   \n",
       "25718                                                NaN   \n",
       "25719                                                NaN   \n",
       "25720                                                NaN   \n",
       "25721                                                NaN   \n",
       "25722                                                NaN   \n",
       "\n",
       "                                                    href Case Number.1  \\\n",
       "0      http://sharkattackfile.net/spreadsheets/pdf_di...    2018.06.25   \n",
       "1      http://sharkattackfile.net/spreadsheets/pdf_di...    2018.06.18   \n",
       "2      http://sharkattackfile.net/spreadsheets/pdf_di...    2018.06.09   \n",
       "3      http://sharkattackfile.net/spreadsheets/pdf_di...    2018.06.08   \n",
       "4      http://sharkattackfile.net/spreadsheets/pdf_di...    2018.06.04   \n",
       "...                                                  ...           ...   \n",
       "25718                                                NaN           NaN   \n",
       "25719                                                NaN           NaN   \n",
       "25720                                                NaN           NaN   \n",
       "25721                                                NaN           NaN   \n",
       "25722                                                NaN           NaN   \n",
       "\n",
       "      Case Number.2  original order Unnamed: 22 Unnamed: 23  \n",
       "0        2018.06.25          6303.0         NaN         NaN  \n",
       "1        2018.06.18          6302.0         NaN         NaN  \n",
       "2        2018.06.09          6301.0         NaN         NaN  \n",
       "3        2018.06.08          6300.0         NaN         NaN  \n",
       "4        2018.06.04          6299.0         NaN         NaN  \n",
       "...             ...             ...         ...         ...  \n",
       "25718           NaN             NaN         NaN         NaN  \n",
       "25719           NaN             NaN         NaN         NaN  \n",
       "25720           NaN             NaN         NaN         NaN  \n",
       "25721           NaN             NaN         NaN         NaN  \n",
       "25722           NaN             NaN         NaN         NaN  \n",
       "\n",
       "[25723 rows x 24 columns]"
      ]
     },
     "execution_count": 2,
     "metadata": {},
     "output_type": "execute_result"
    }
   ],
   "source": [
    "# cargar los datos\n",
    "df = pd.read_csv('../Data/attacks.csv', encoding='latin1')# encoding='latin1' para corregir un error\n",
    "pd.set_option('display.max_columns', None)# Muestra todas las columnas\n",
    "df                    "
   ]
  },
  {
   "cell_type": "code",
   "execution_count": 3,
   "id": "9daccb15",
   "metadata": {},
   "outputs": [],
   "source": [
    "#Funciones de analisis preliminar de columnas:\n",
    "def preliminar(df, col):\n",
    "    print('Type of ', col, ': ', df[col].dtype)\n",
    "    col = df[col]\n",
    "    \n",
    "    if col.dtype == 'object':\n",
    "        col = col.str.lower().str.rstrip('_').str.lstrip('_')\n",
    "    \n",
    "    print('Unique shape is:', col.unique().shape)\n",
    "    if col.unique().shape[0] < 15:\n",
    "        print('Unique values are:', col.unique())\n",
    "    else:\n",
    "        print('First unique values are:', col.unique()[:5])\n",
    "\n",
    "    valores_nulos = col.isnull().sum()\n",
    "    print('NaN values:', valores_nulos)"
   ]
  },
  {
   "cell_type": "code",
   "execution_count": 4,
   "id": "0d78f14f",
   "metadata": {},
   "outputs": [
    {
     "data": {
      "text/plain": [
       "Index(['Case Number', 'Date', 'Year', 'Type', 'Country', 'Area', 'Location',\n",
       "       'Activity', 'Name', 'Sex ', 'Age', 'Injury', 'Fatal (Y/N)', 'Time',\n",
       "       'Species ', 'Investigator or Source', 'pdf', 'href formula', 'href',\n",
       "       'Case Number.1', 'Case Number.2', 'original order', 'Unnamed: 22',\n",
       "       'Unnamed: 23'],\n",
       "      dtype='object')"
      ]
     },
     "execution_count": 4,
     "metadata": {},
     "output_type": "execute_result"
    }
   ],
   "source": [
    "#guardar las dimensiones originales del dataframe\n",
    "dim_original = df.shape\n",
    "df.shape\n",
    "df.columns"
   ]
  },
  {
   "cell_type": "code",
   "execution_count": 5,
   "id": "7356cbb7",
   "metadata": {},
   "outputs": [
    {
     "data": {
      "text/plain": [
       "Index(['case_number', 'date', 'year', 'type', 'country', 'area', 'location',\n",
       "       'activity', 'name', 'sex', 'age', 'injury', 'fatal_(y/n)', 'time',\n",
       "       'species', 'investigator_or_source', 'pdf', 'href_formula', 'href',\n",
       "       'case_number_1', 'case_number_2', 'original_order', 'unnamed:_22',\n",
       "       'unnamed:_23'],\n",
       "      dtype='object')"
      ]
     },
     "execution_count": 5,
     "metadata": {},
     "output_type": "execute_result"
    }
   ],
   "source": [
    "# poner el nombre de todas las columnas en minuscula\n",
    "df.columns = df.columns.str.lower().str.replace(' ', '_').str.replace('.', '_').str.rstrip('_')\n",
    "df.columns\n"
   ]
  },
  {
   "cell_type": "code",
   "execution_count": 6,
   "id": "ed167adf",
   "metadata": {},
   "outputs": [
    {
     "name": "stdout",
     "output_type": "stream",
     "text": [
      "<class 'pandas.core.frame.DataFrame'>\n",
      "RangeIndex: 25723 entries, 0 to 25722\n",
      "Data columns (total 24 columns):\n",
      " #   Column                  Non-Null Count  Dtype  \n",
      "---  ------                  --------------  -----  \n",
      " 0   case_number             8702 non-null   object \n",
      " 1   date                    6302 non-null   object \n",
      " 2   year                    6300 non-null   float64\n",
      " 3   type                    6298 non-null   object \n",
      " 4   country                 6252 non-null   object \n",
      " 5   area                    5847 non-null   object \n",
      " 6   location                5762 non-null   object \n",
      " 7   activity                5758 non-null   object \n",
      " 8   name                    6092 non-null   object \n",
      " 9   sex                     5737 non-null   object \n",
      " 10  age                     3471 non-null   object \n",
      " 11  injury                  6274 non-null   object \n",
      " 12  fatal_(y/n)             5763 non-null   object \n",
      " 13  time                    2948 non-null   object \n",
      " 14  species                 3464 non-null   object \n",
      " 15  investigator_or_source  6285 non-null   object \n",
      " 16  pdf                     6302 non-null   object \n",
      " 17  href_formula            6301 non-null   object \n",
      " 18  href                    6302 non-null   object \n",
      " 19  case_number_1           6302 non-null   object \n",
      " 20  case_number_2           6302 non-null   object \n",
      " 21  original_order          6309 non-null   float64\n",
      " 22  unnamed:_22             1 non-null      object \n",
      " 23  unnamed:_23             2 non-null      object \n",
      "dtypes: float64(2), object(22)\n",
      "memory usage: 22.8 MB\n"
     ]
    }
   ],
   "source": [
    "#para saber el tipo de datos que manejamos\n",
    "df.info(memory_usage='deep')# vemos la cantidad de valores nulos por columna\n",
    "# vemos que algunas columnas no tienen el tipo esperable:\n",
    "error_type = ['case_number', 'date', 'age', 'time', 'case_number1', 'case_number2']"
   ]
  },
  {
   "cell_type": "code",
   "execution_count": 7,
   "id": "fee54824",
   "metadata": {},
   "outputs": [
    {
     "name": "stdout",
     "output_type": "stream",
     "text": [
      "<class 'pandas.core.frame.DataFrame'>\n",
      "RangeIndex: 25723 entries, 0 to 25722\n",
      "Data columns (total 24 columns):\n",
      " #   Column                  Non-Null Count  Dtype  \n",
      "---  ------                  --------------  -----  \n",
      " 0   case_number             8702 non-null   object \n",
      " 1   date                    6302 non-null   object \n",
      " 2   year                    6300 non-null   float64\n",
      " 3   type                    6298 non-null   object \n",
      " 4   country                 6252 non-null   object \n",
      " 5   area                    5847 non-null   object \n",
      " 6   location                5762 non-null   object \n",
      " 7   activity                5758 non-null   object \n",
      " 8   name                    6092 non-null   object \n",
      " 9   sex                     5737 non-null   object \n",
      " 10  age                     3471 non-null   object \n",
      " 11  injury                  6274 non-null   object \n",
      " 12  fatal_(y/n)             5763 non-null   object \n",
      " 13  time                    2948 non-null   object \n",
      " 14  species                 3464 non-null   object \n",
      " 15  investigator_or_source  6285 non-null   object \n",
      " 16  pdf                     6302 non-null   object \n",
      " 17  href_formula            6301 non-null   object \n",
      " 18  href                    6302 non-null   object \n",
      " 19  case_number_1           6302 non-null   object \n",
      " 20  case_number_2           6302 non-null   object \n",
      " 21  original_order          6309 non-null   float64\n",
      " 22  unnamed:_22             1 non-null      object \n",
      " 23  unnamed:_23             2 non-null      object \n",
      "dtypes: float64(2), object(22)\n",
      "memory usage: 22.8 MB\n"
     ]
    }
   ],
   "source": [
    "#Valores nulos :\n",
    "df.info(memory_usage='deep')# vemos la cantidad de valores  no nulos por columna"
   ]
  },
  {
   "cell_type": "code",
   "execution_count": 8,
   "id": "571c2af6",
   "metadata": {},
   "outputs": [
    {
     "data": {
      "text/plain": [
       "24"
      ]
     },
     "execution_count": 8,
     "metadata": {},
     "output_type": "execute_result"
    }
   ],
   "source": [
    "#Valores nulos :\n",
    "valores_nulos = df.isnull().sum().sum()# valores nulos totales en columnas( primer sum()) y en filas(segundo)\n",
    "valores_nulos # = 488276\n",
    "nan_cols = df.isna().sum()#miro las columnas con valores nulos #df.isnull().sum()---> Es lo mismo\n",
    "nan_cols[nan_cols>0] #miro las columnas donde hay valores nulos( si hay valores nulos la suma tiene que ser mayor que 0)\n",
    "len(nan_cols[nan_cols>0]) # = 24, todas las columnas tienen valores nulos"
   ]
  },
  {
   "cell_type": "code",
   "execution_count": 9,
   "id": "a4987200",
   "metadata": {},
   "outputs": [
    {
     "data": {
      "text/plain": [
       "19421"
      ]
     },
     "execution_count": 9,
     "metadata": {},
     "output_type": "execute_result"
    }
   ],
   "source": [
    "nan_rows = df.isna().sum(axis=1)#miro las filas con valores nulos \n",
    "nan_rows[nan_rows > 20] #miro las filas donde hay valores nulos( si hay valores nulos la suma tiene que ser mayor que 0)\n",
    "len(nan_rows[nan_rows > 20])#  = 19421 filas con valores nulos"
   ]
  },
  {
   "cell_type": "code",
   "execution_count": 10,
   "id": "97137147",
   "metadata": {},
   "outputs": [
    {
     "data": {
      "text/plain": [
       "((6302, 24), (25723, 24))"
      ]
     },
     "execution_count": 10,
     "metadata": {},
     "output_type": "execute_result"
    }
   ],
   "source": [
    "#Primera limpia:\n",
    "df.drop(index=nan_rows[nan_rows > 20].index, inplace=True)#eliminamos todas las filas cuyos valores nulos sean superiores a 20\n",
    "df.shape , dim_original # Hemos reducido considerablemente el numero de filas al quitar las nulas"
   ]
  },
  {
   "cell_type": "code",
   "execution_count": 11,
   "id": "bec83f10",
   "metadata": {},
   "outputs": [],
   "source": [
    "#Analizamos las columnas y encontramos relaciones entre ellas:\n",
    "# las columnas date, case_number, case_number1, case_number2, hablan de fechas(cada una tiene un formato diferente). Se podrian llegar a relacionar con las col 'year' y 'time'\n",
    "#Las columnas ['country', 'area', 'location'] hablan de localización.\n",
    "#Las col injury y fatal relacionan el tipo de lesión y si es mortal o no.\n",
    "#Las col 'href' y 'href_formula' también están relacionadas.\n",
    "#Las dos ultimas col 'unnamed:_22', 'unnamed:_23' son bastante irrelevantes."
   ]
  },
  {
   "cell_type": "code",
   "execution_count": 12,
   "id": "88dd3c6f",
   "metadata": {},
   "outputs": [],
   "source": [
    "#DEFINICIÖN DEL OBJETIVO: Analizar si los ataques de tiburones se han vuelto más agresivos en los últimos años.\n",
    "#Para ello redefiniremos el nivel de injury ( leve, grave, muy grave, mortal) usando las col injury y fatal:\n",
    "#- Categorizar los datos de la col injury( apoyandonos en fatal)\n",
    "# Utilizaremos las 4 col relacionadas con la fecha para definir nuestro rango temporal:\n",
    "#-Eliminaremos aquellas filas que no se encuentren en un rango temporal optimo( por no tener suficientes datos dentro del rang)\n"
   ]
  },
  {
   "cell_type": "code",
   "execution_count": 13,
   "id": "311817d3",
   "metadata": {},
   "outputs": [],
   "source": [
    "#ANALISIS DE LA AGRESIVIDAD:"
   ]
  },
  {
   "cell_type": "code",
   "execution_count": 14,
   "id": "18565d1c",
   "metadata": {},
   "outputs": [
    {
     "data": {
      "text/plain": [
       "28"
      ]
     },
     "execution_count": 14,
     "metadata": {},
     "output_type": "execute_result"
    }
   ],
   "source": [
    "#Analisis preliminar de 'injury'\n",
    "df['injury'].unique().shape # = 3738 tipos.Demasidos todavía, definir rango temporal antes\n",
    "df['injury'].unique()\n",
    "valores_nulos = df['injury'].isnull().sum() # 28 valores nulos\n",
    "valores_nulos"
   ]
  },
  {
   "cell_type": "code",
   "execution_count": 15,
   "id": "c23c0696",
   "metadata": {},
   "outputs": [
    {
     "data": {
      "text/plain": [
       "539"
      ]
     },
     "execution_count": 15,
     "metadata": {},
     "output_type": "execute_result"
    }
   ],
   "source": [
    "#Analisis preliminar de 'fatal_(y/n)'\n",
    "df['fatal_(y/n)'].unique().shape # = 9\n",
    "df['fatal_(y/n)'].unique() #['N', 'Y', nan, 'M', 'UNKNOWN', '2017', ' N', 'N ', 'y']\n",
    "valores_nulos = df['fatal_(y/n)'].isnull().sum() # 539 valores nulos\n",
    "valores_nulos"
   ]
  },
  {
   "cell_type": "code",
   "execution_count": 16,
   "id": "1eef7f42",
   "metadata": {},
   "outputs": [
    {
     "data": {
      "text/plain": [
       "((6302, 24), (25723, 24))"
      ]
     },
     "execution_count": 16,
     "metadata": {},
     "output_type": "execute_result"
    }
   ],
   "source": [
    "#Limpiar datos de 'fatal_(y/n)':\n",
    "df['fatal_(y/n)'] = df['fatal_(y/n)'].str.lower().str.rstrip('_').str.lstrip('_')\n",
    "df['fatal_(y/n)'].unique() #['n', 'y', nan, 'm', 'unknown', '2017'].\n",
    "fila = df.loc[df['fatal_(y/n)'] == 'm'] #suponemos un error al introducir m = n por cercania en el teclado, Comprobado que la persona no vuelve a aparecer más adelante.\n",
    "df.loc[285, 'fatal_(y/n)'] = 'n'\n",
    "fila = df.loc[df['fatal_(y/n)'] == '2017'] #accidente ocurrido en 2012, sin sentido = unknown.\n",
    "df.loc[786, 'fatal_(y/n)'] = 'unknown'\n",
    "df.loc[df['fatal_(y/n)'] == 'unknown'].shape # = 72. Volveremos a ellos tras categorizar 'injury'.\n",
    "df['fatal_(y/n)'].fillna('unknown', inplace = True) # rellenamos los nan con 'unknown'.Volveremos a ellos tras categorizar 'injury'.\n",
    "df.loc[df['fatal_(y/n)'] == 'unknown'].shape # = 611.\n",
    "df['fatal_(y/n)'].unique() # ['n', 'y', 'unknown']\n",
    "df.shape , dim_original"
   ]
  },
  {
   "cell_type": "code",
   "execution_count": 17,
   "id": "22a4ddde",
   "metadata": {},
   "outputs": [
    {
     "name": "stdout",
     "output_type": "stream",
     "text": [
      "reported fatal, but this is a questionable incident\n"
     ]
    },
    {
     "data": {
      "text/plain": [
       "((6273, 24), (25723, 24))"
      ]
     },
     "execution_count": 17,
     "metadata": {},
     "output_type": "execute_result"
    }
   ],
   "source": [
    "#Limpiar datos de 'injury':\n",
    "df['injury'] = df['injury'].str.lower().str.rstrip('_').str.lstrip('_')\n",
    "df.loc[df['fatal_(y/n)'] == 'y', 'injury'] = 'fatal' # para cada valor que sea y(yes) en 'fatal' queremos que injury = 'fatal'\n",
    "df['injury'].unique().shape # = 3222 tipos diferentes todavía\n",
    "filt = df['injury'].str.contains('fatal', na=False) # comprobamos que valores contienen 'fatal', \n",
    "injury_fatal = df.loc[filt, 'injury']\n",
    "injury_fatal # = 1447 con fatal en algún punto\n",
    "filt1 = df['injury'].str.contains('fatal') & df['injury'].str.contains('questionable')\n",
    "print(df['injury'][5590]) # hay un dato cuestionable -> 5590. No se sabe la especie.Eliminamos fila porque no se sabe si es o no un tiburon\n",
    "df.drop(index = 5590)\n",
    "df.loc[df['injury'] == 'fatal'].shape # = 1409 con sólo fatal.Vamos a rellenar todos los que tengan fatal con fatal directamente\n",
    "df['injury'] = df['injury'].str.replace('.*fatal.*', 'fatal', regex = True)\n",
    "df.loc[df['injury'] == 'fatal'].shape # = 1447 con 'fatal'.Limpio.\n",
    "df['injury'].isnull().sum() # = 27. Uno menos que antes\n",
    "df['injury'].fillna('unknown', inplace = True)\n",
    "df.loc[df['injury'] == 'unknown'].shape # = 29\n",
    "df['injury'].isnull().sum() # = 0 . No sabemos que tipo de lesión se produjo. Asi que vamos a eliminar las filas porque no son relevantes para nuestro objeto de estudio\n",
    "df.drop(df.loc[df['injury'] == 'unknown'].index, inplace = True)\n",
    "df['injury'].unique().shape # = 3189 tipos difetentes. Complicado aún, vamos a tratar de eliminar las filas que no sepamos si son ataques de tiburón y  que estén fuera de nuestro rango temporal\n",
    "\n",
    "df.loc[df['fatal_(y/n)'] == 'unknown'].shape # = 531\n",
    "df.loc[df['injury'] == 'fatal', 'fatal_(y/n)'] = 'y' #limpiamos col 'fatal' con 'injury'\n",
    "df.loc[df['fatal_(y/n)'] == 'unknown'].shape # = 531 no ha aumentado\n",
    "df.shape , dim_original"
   ]
  },
  {
   "cell_type": "code",
   "execution_count": 18,
   "id": "a34767f2",
   "metadata": {},
   "outputs": [
    {
     "data": {
      "text/plain": [
       "2821"
      ]
     },
     "execution_count": 18,
     "metadata": {},
     "output_type": "execute_result"
    }
   ],
   "source": [
    "#Analisis preliminar de 'species':\n",
    "df['species'].unique().shape                 # = 1547 tipos\n",
    "df['species'].unique()\n",
    "valores_nulos = df['species'].isnull().sum() # 2821 valores nulos\n",
    "valores_nulos"
   ]
  },
  {
   "cell_type": "code",
   "execution_count": 19,
   "id": "503908b7",
   "metadata": {},
   "outputs": [
    {
     "data": {
      "text/plain": [
       "((6059, 24), (25723, 24))"
      ]
     },
     "execution_count": 19,
     "metadata": {},
     "output_type": "execute_result"
    }
   ],
   "source": [
    "#Limpiar datos de 'species':\n",
    "# queremos buscar datos en los que no estemos seguros que sea un tiburon. La especie no nos importa\n",
    "df['species'] = df['species'].str.lower().str.rstrip('_').str.lstrip('_')\n",
    "df['species'].fillna('unknown', inplace = True)\n",
    "df['species'].unique().shape # = 1532 tipos\n",
    "filtro = ~df['species'].str.contains(r'shark|unknown', regex=True)\n",
    "valores = df[filtro]['species']\n",
    "valores.shape # = 234 valores que no tienen shark\n",
    "valores.unique().shape# = 49 valores unicos que no tienen shark, vamos a limpiarlos: si es questionable, invalido, eliminamos fila si incluye los char shar lo cambiamos por shark\n",
    "valores.unique()\n",
    "df = df[~df['species'].str.contains('questionable|invalid', case=False, na=False, regex=True)]\n",
    "df['species'].unique().shape # = 1520 tipos\n",
    "valores.unique().shape # = 45 valores unicos que no tienen shark\n",
    "valores.shape # = 65 valores\n",
    "df['species'] = df['species'].str.replace('.*shar|wobbegong|porbeagle|bronze whaler|hammerhead|spurdog|dogfish|blue pointer|c. .*', 'shark', regex=True) # Sustituimos todos los valores de la columna que contengan *shar* en algún punto por 'shark'\n",
    "valores.unique().shape # = 19 valores unicos que no tienen shark\n",
    "valores.shape # = 34 valores en total\n",
    "valores\n",
    "new_df = df.loc[df['species'].isin(valores)] # almacenamos los valores que nos quedan en un nuevo dt\n",
    "new_df.shape# comprobamos esos 34 valores, en los cuales no queda claro si es o no un tiburon\n",
    "df.drop(new_df.index, inplace = True)#al no estar seguros si se trata o no de un tiburon, eliminamos las filas\n",
    "df.loc[df['species']== 'unknown'].shape # Recordar que tenemos 2822 filas que no estamos seguros de que se trate de un tiburon\n",
    "df.shape , dim_original"
   ]
  },
  {
   "cell_type": "code",
   "execution_count": 20,
   "id": "b9ac7a9e",
   "metadata": {},
   "outputs": [
    {
     "name": "stdout",
     "output_type": "stream",
     "text": [
      "Type of  year :  float64\n",
      "Unique shape is: (242,)\n",
      "First unique values are: [2018. 2017.   nan 2016. 2015.]\n",
      "NaN values: 2\n"
     ]
    }
   ],
   "source": [
    "#Analisis de las columna 'year':\n",
    "preliminar(df, 'year')\n"
   ]
  },
  {
   "cell_type": "code",
   "execution_count": 34,
   "id": "6b627aa8",
   "metadata": {},
   "outputs": [
    {
     "name": "stdout",
     "output_type": "stream",
     "text": [
      "Type of  year :  float64\n",
      "Unique shape is: (241,)\n",
      "First unique values are: [2018. 2017. 2016. 2015. 2014.]\n",
      "NaN values: 0\n"
     ]
    }
   ],
   "source": [
    "#tenemos dos valores nulos vamos a buscarlos\n",
    "indices_nulos = df[df['year'].isnull()].index\n",
    "indices_nulos # = 187 y 6079\n",
    "df.loc[187] # es 2017 lo sustituimos\n",
    "df.loc[6079] # es 1836 lo sustituimos\n",
    "df['year'][187] = 2017\n",
    "df['year'][6079] = 1836\n",
    "preliminar(df, 'year')"
   ]
  },
  {
   "cell_type": "code",
   "execution_count": 44,
   "id": "b7da2902",
   "metadata": {},
   "outputs": [
    {
     "name": "stdout",
     "output_type": "stream",
     "text": [
      "Type of  year :  object\n",
      "Unique shape is: (241,)\n",
      "First unique values are: ['2018.0' '2017.0' '2016.0' '2015.0' '2014.0']\n",
      "NaN values: 0\n"
     ]
    },
    {
     "data": {
      "text/plain": [
       "6151    1751.0\n",
       "6152    1749.0\n",
       "6154    1748.0\n",
       "6155    1742.0\n",
       "6156    1738.0\n",
       "6157    1733.0\n",
       "6158    1723.0\n",
       "6159    1721.0\n",
       "6160    1703.0\n",
       "6161    1700.0\n",
       "6162    1700.0\n",
       "6163    1700.0\n",
       "6168    1642.0\n",
       "6169    1595.0\n",
       "6170    1580.0\n",
       "6173    1543.0\n",
       "6174     500.0\n",
       "6175      77.0\n",
       "6176       5.0\n",
       "6177       0.0\n",
       "Name: year, dtype: object"
      ]
     },
     "execution_count": 44,
     "metadata": {},
     "output_type": "execute_result"
    }
   ],
   "source": [
    "df['year'] = df['year'].astype(str) #convertivos la columna a string\n",
    "def limpiar_año(valor):\n",
    "    patron = r\"\\d{4}\"\n",
    "    coincidencias = re.findall(patron, valor)\n",
    "    if coincidencias:\n",
    "        return coincidencias[0]\n",
    "    else:\n",
    "        return valor\n",
    "df['year'] = df['year'].apply(limpiar_valor)\n",
    "preliminar(df, 'year')\n",
    "\n"
   ]
  },
  {
   "cell_type": "code",
   "execution_count": 23,
   "id": "e047c01c",
   "metadata": {},
   "outputs": [
    {
     "data": {
      "text/html": [
       "<div>\n",
       "<style scoped>\n",
       "    .dataframe tbody tr th:only-of-type {\n",
       "        vertical-align: middle;\n",
       "    }\n",
       "\n",
       "    .dataframe tbody tr th {\n",
       "        vertical-align: top;\n",
       "    }\n",
       "\n",
       "    .dataframe thead th {\n",
       "        text-align: right;\n",
       "    }\n",
       "</style>\n",
       "<table border=\"1\" class=\"dataframe\">\n",
       "  <thead>\n",
       "    <tr style=\"text-align: right;\">\n",
       "      <th></th>\n",
       "      <th>case_number</th>\n",
       "      <th>date</th>\n",
       "      <th>year</th>\n",
       "      <th>type</th>\n",
       "      <th>country</th>\n",
       "      <th>area</th>\n",
       "      <th>location</th>\n",
       "      <th>activity</th>\n",
       "      <th>name</th>\n",
       "      <th>sex</th>\n",
       "      <th>age</th>\n",
       "      <th>injury</th>\n",
       "      <th>fatal_(y/n)</th>\n",
       "      <th>time</th>\n",
       "      <th>species</th>\n",
       "      <th>investigator_or_source</th>\n",
       "      <th>pdf</th>\n",
       "      <th>href_formula</th>\n",
       "      <th>href</th>\n",
       "      <th>case_number_1</th>\n",
       "      <th>case_number_2</th>\n",
       "      <th>original_order</th>\n",
       "      <th>unnamed:_22</th>\n",
       "      <th>unnamed:_23</th>\n",
       "    </tr>\n",
       "  </thead>\n",
       "  <tbody>\n",
       "    <tr>\n",
       "      <th>0</th>\n",
       "      <td>2018.06.25</td>\n",
       "      <td>25-Jun-2018</td>\n",
       "      <td>2018.0</td>\n",
       "      <td>Boating</td>\n",
       "      <td>USA</td>\n",
       "      <td>California</td>\n",
       "      <td>Oceanside, San Diego County</td>\n",
       "      <td>Paddling</td>\n",
       "      <td>Julie Wolfe</td>\n",
       "      <td>F</td>\n",
       "      <td>57</td>\n",
       "      <td>no injury to occupant, outrigger canoe and pad...</td>\n",
       "      <td>n</td>\n",
       "      <td>18h00</td>\n",
       "      <td>sharkk</td>\n",
       "      <td>R. Collier, GSAF</td>\n",
       "      <td>2018.06.25-Wolfe.pdf</td>\n",
       "      <td>http://sharkattackfile.net/spreadsheets/pdf_di...</td>\n",
       "      <td>http://sharkattackfile.net/spreadsheets/pdf_di...</td>\n",
       "      <td>2018.06.25</td>\n",
       "      <td>2018.06.25</td>\n",
       "      <td>6303.0</td>\n",
       "      <td>NaN</td>\n",
       "      <td>NaN</td>\n",
       "    </tr>\n",
       "    <tr>\n",
       "      <th>1</th>\n",
       "      <td>2018.06.18</td>\n",
       "      <td>18-Jun-2018</td>\n",
       "      <td>2018.0</td>\n",
       "      <td>Unprovoked</td>\n",
       "      <td>USA</td>\n",
       "      <td>Georgia</td>\n",
       "      <td>St. Simon Island, Glynn County</td>\n",
       "      <td>Standing</td>\n",
       "      <td>Adyson McNeely</td>\n",
       "      <td>F</td>\n",
       "      <td>11</td>\n",
       "      <td>minor injury to left thigh</td>\n",
       "      <td>n</td>\n",
       "      <td>14h00  -15h00</td>\n",
       "      <td>unknown</td>\n",
       "      <td>K.McMurray, TrackingSharks.com</td>\n",
       "      <td>2018.06.18-McNeely.pdf</td>\n",
       "      <td>http://sharkattackfile.net/spreadsheets/pdf_di...</td>\n",
       "      <td>http://sharkattackfile.net/spreadsheets/pdf_di...</td>\n",
       "      <td>2018.06.18</td>\n",
       "      <td>2018.06.18</td>\n",
       "      <td>6302.0</td>\n",
       "      <td>NaN</td>\n",
       "      <td>NaN</td>\n",
       "    </tr>\n",
       "    <tr>\n",
       "      <th>2</th>\n",
       "      <td>2018.06.09</td>\n",
       "      <td>09-Jun-2018</td>\n",
       "      <td>2018.0</td>\n",
       "      <td>Invalid</td>\n",
       "      <td>USA</td>\n",
       "      <td>Hawaii</td>\n",
       "      <td>Habush, Oahu</td>\n",
       "      <td>Surfing</td>\n",
       "      <td>John Denges</td>\n",
       "      <td>M</td>\n",
       "      <td>48</td>\n",
       "      <td>injury to left lower leg from surfboard skeg</td>\n",
       "      <td>n</td>\n",
       "      <td>07h45</td>\n",
       "      <td>unknown</td>\n",
       "      <td>K.McMurray, TrackingSharks.com</td>\n",
       "      <td>2018.06.09-Denges.pdf</td>\n",
       "      <td>http://sharkattackfile.net/spreadsheets/pdf_di...</td>\n",
       "      <td>http://sharkattackfile.net/spreadsheets/pdf_di...</td>\n",
       "      <td>2018.06.09</td>\n",
       "      <td>2018.06.09</td>\n",
       "      <td>6301.0</td>\n",
       "      <td>NaN</td>\n",
       "      <td>NaN</td>\n",
       "    </tr>\n",
       "    <tr>\n",
       "      <th>3</th>\n",
       "      <td>2018.06.08</td>\n",
       "      <td>08-Jun-2018</td>\n",
       "      <td>2018.0</td>\n",
       "      <td>Unprovoked</td>\n",
       "      <td>AUSTRALIA</td>\n",
       "      <td>New South Wales</td>\n",
       "      <td>Arrawarra Headland</td>\n",
       "      <td>Surfing</td>\n",
       "      <td>male</td>\n",
       "      <td>M</td>\n",
       "      <td>NaN</td>\n",
       "      <td>minor injury to lower leg</td>\n",
       "      <td>n</td>\n",
       "      <td>NaN</td>\n",
       "      <td>sharkk</td>\n",
       "      <td>B. Myatt, GSAF</td>\n",
       "      <td>2018.06.08-Arrawarra.pdf</td>\n",
       "      <td>http://sharkattackfile.net/spreadsheets/pdf_di...</td>\n",
       "      <td>http://sharkattackfile.net/spreadsheets/pdf_di...</td>\n",
       "      <td>2018.06.08</td>\n",
       "      <td>2018.06.08</td>\n",
       "      <td>6300.0</td>\n",
       "      <td>NaN</td>\n",
       "      <td>NaN</td>\n",
       "    </tr>\n",
       "    <tr>\n",
       "      <th>4</th>\n",
       "      <td>2018.06.04</td>\n",
       "      <td>04-Jun-2018</td>\n",
       "      <td>2018.0</td>\n",
       "      <td>Provoked</td>\n",
       "      <td>MEXICO</td>\n",
       "      <td>Colima</td>\n",
       "      <td>La Ticla</td>\n",
       "      <td>Free diving</td>\n",
       "      <td>Gustavo Ramos</td>\n",
       "      <td>M</td>\n",
       "      <td>NaN</td>\n",
       "      <td>lacerations to leg &amp; hand shark provoked incident</td>\n",
       "      <td>n</td>\n",
       "      <td>NaN</td>\n",
       "      <td>sharkk, 3m</td>\n",
       "      <td>A .Kipper</td>\n",
       "      <td>2018.06.04-Ramos.pdf</td>\n",
       "      <td>http://sharkattackfile.net/spreadsheets/pdf_di...</td>\n",
       "      <td>http://sharkattackfile.net/spreadsheets/pdf_di...</td>\n",
       "      <td>2018.06.04</td>\n",
       "      <td>2018.06.04</td>\n",
       "      <td>6299.0</td>\n",
       "      <td>NaN</td>\n",
       "      <td>NaN</td>\n",
       "    </tr>\n",
       "  </tbody>\n",
       "</table>\n",
       "</div>"
      ],
      "text/plain": [
       "  case_number         date    year        type    country             area  \\\n",
       "0  2018.06.25  25-Jun-2018  2018.0     Boating        USA       California   \n",
       "1  2018.06.18  18-Jun-2018  2018.0  Unprovoked        USA          Georgia   \n",
       "2  2018.06.09  09-Jun-2018  2018.0     Invalid        USA           Hawaii   \n",
       "3  2018.06.08  08-Jun-2018  2018.0  Unprovoked  AUSTRALIA  New South Wales   \n",
       "4  2018.06.04  04-Jun-2018  2018.0    Provoked     MEXICO           Colima   \n",
       "\n",
       "                         location     activity             name sex  age  \\\n",
       "0     Oceanside, San Diego County     Paddling      Julie Wolfe   F   57   \n",
       "1  St. Simon Island, Glynn County     Standing  Adyson McNeely    F   11   \n",
       "2                    Habush, Oahu      Surfing      John Denges   M   48   \n",
       "3              Arrawarra Headland      Surfing             male   M  NaN   \n",
       "4                        La Ticla  Free diving   Gustavo Ramos    M  NaN   \n",
       "\n",
       "                                              injury fatal_(y/n)  \\\n",
       "0  no injury to occupant, outrigger canoe and pad...           n   \n",
       "1                         minor injury to left thigh           n   \n",
       "2       injury to left lower leg from surfboard skeg           n   \n",
       "3                          minor injury to lower leg           n   \n",
       "4  lacerations to leg & hand shark provoked incident           n   \n",
       "\n",
       "            time     species          investigator_or_source  \\\n",
       "0          18h00      sharkk                R. Collier, GSAF   \n",
       "1  14h00  -15h00     unknown  K.McMurray, TrackingSharks.com   \n",
       "2          07h45     unknown  K.McMurray, TrackingSharks.com   \n",
       "3            NaN      sharkk                  B. Myatt, GSAF   \n",
       "4            NaN  sharkk, 3m                       A .Kipper   \n",
       "\n",
       "                        pdf  \\\n",
       "0      2018.06.25-Wolfe.pdf   \n",
       "1    2018.06.18-McNeely.pdf   \n",
       "2     2018.06.09-Denges.pdf   \n",
       "3  2018.06.08-Arrawarra.pdf   \n",
       "4      2018.06.04-Ramos.pdf   \n",
       "\n",
       "                                        href_formula  \\\n",
       "0  http://sharkattackfile.net/spreadsheets/pdf_di...   \n",
       "1  http://sharkattackfile.net/spreadsheets/pdf_di...   \n",
       "2  http://sharkattackfile.net/spreadsheets/pdf_di...   \n",
       "3  http://sharkattackfile.net/spreadsheets/pdf_di...   \n",
       "4  http://sharkattackfile.net/spreadsheets/pdf_di...   \n",
       "\n",
       "                                                href case_number_1  \\\n",
       "0  http://sharkattackfile.net/spreadsheets/pdf_di...    2018.06.25   \n",
       "1  http://sharkattackfile.net/spreadsheets/pdf_di...    2018.06.18   \n",
       "2  http://sharkattackfile.net/spreadsheets/pdf_di...    2018.06.09   \n",
       "3  http://sharkattackfile.net/spreadsheets/pdf_di...    2018.06.08   \n",
       "4  http://sharkattackfile.net/spreadsheets/pdf_di...    2018.06.04   \n",
       "\n",
       "  case_number_2  original_order unnamed:_22 unnamed:_23  \n",
       "0    2018.06.25          6303.0         NaN         NaN  \n",
       "1    2018.06.18          6302.0         NaN         NaN  \n",
       "2    2018.06.09          6301.0         NaN         NaN  \n",
       "3    2018.06.08          6300.0         NaN         NaN  \n",
       "4    2018.06.04          6299.0         NaN         NaN  "
      ]
     },
     "execution_count": 23,
     "metadata": {},
     "output_type": "execute_result"
    }
   ],
   "source": [
    "#Analisis de las columnas relacionadas con la fecha:\n",
    "df.head()"
   ]
  },
  {
   "cell_type": "code",
   "execution_count": 24,
   "id": "d35a6e67",
   "metadata": {},
   "outputs": [
    {
     "name": "stdout",
     "output_type": "stream",
     "text": [
      "Type of  case_number :  object\n",
      "Unique shape is: (6044,)\n",
      "First unique values are: ['2018.06.25' '2018.06.18' '2018.06.09' '2018.06.08' '2018.06.04']\n",
      "NaN values: 1\n"
     ]
    }
   ],
   "source": [
    "#Analisis preliminar de 'case_number'\n",
    "preliminar(df, 'case_number')"
   ]
  },
  {
   "cell_type": "code",
   "execution_count": 25,
   "id": "a3d69009",
   "metadata": {},
   "outputs": [
    {
     "name": "stdout",
     "output_type": "stream",
     "text": [
      "Type of  date :  object\n",
      "Unique shape is: (5239,)\n",
      "First unique values are: ['25-jun-2018' '18-jun-2018' '09-jun-2018' '08-jun-2018' '04-jun-2018']\n",
      "NaN values: 0\n"
     ]
    }
   ],
   "source": [
    "#Analisis preliminar de 'date'\n",
    "preliminar(df, 'date')"
   ]
  },
  {
   "cell_type": "code",
   "execution_count": 26,
   "id": "5d73a77b",
   "metadata": {},
   "outputs": [
    {
     "name": "stdout",
     "output_type": "stream",
     "text": [
      "Type of  case_number_1 :  object\n",
      "Unique shape is: (6043,)\n",
      "First unique values are: ['2018.06.25' '2018.06.18' '2018.06.09' '2018.06.08' '2018.06.04']\n",
      "NaN values: 0\n"
     ]
    }
   ],
   "source": [
    "#Analisis preliminar de 'case_number_1'\n",
    "preliminar(df, 'case_number_1')"
   ]
  },
  {
   "cell_type": "code",
   "execution_count": 27,
   "id": "2e203b13",
   "metadata": {},
   "outputs": [
    {
     "name": "stdout",
     "output_type": "stream",
     "text": [
      "Type of  case_number_2 :  object\n",
      "Unique shape is: (6044,)\n",
      "First unique values are: ['2018.06.25' '2018.06.18' '2018.06.09' '2018.06.08' '2018.06.04']\n",
      "NaN values: 0\n"
     ]
    }
   ],
   "source": [
    "#Analisis preliminar de 'case_number_2'\n",
    "preliminar(df, 'case_number_2')"
   ]
  },
  {
   "cell_type": "code",
   "execution_count": 28,
   "id": "afd438c0",
   "metadata": {},
   "outputs": [],
   "source": [
    "# Vamos a convertir todos los valores de cada columna al mismo formato: year_month_day\n",
    "#case_number: tiene un valor nulo, vamos a corregirlo\n",
    "\n",
    "columna = 'case_number'\n",
    "indices_nulos = df[df[columna].isnull()].index.tolist()\n",
    "indices_nulos # el indice erróneo es 5488\n",
    "df.loc[5488] #Lo buscamos y vemos que podemos completarlo con una de las otras columnas, en este caso case_number_1\n",
    "df['case_number'][5488] = df['case_number_1'][5488]\n",
    "\n",
    "\n"
   ]
  },
  {
   "cell_type": "code",
   "execution_count": 29,
   "id": "5b1debaa",
   "metadata": {},
   "outputs": [
    {
     "data": {
      "text/plain": [
       "124"
      ]
     },
     "execution_count": 29,
     "metadata": {},
     "output_type": "execute_result"
    }
   ],
   "source": [
    "\n",
    "def limpiar_valor(valor):\n",
    "    patron = r\"\\d{4}\\.\\d{2}\\.\\d{2}\"\n",
    "    coincidencias = re.findall(patron, valor)\n",
    "    if coincidencias:\n",
    "        return coincidencias[0]\n",
    "    else:\n",
    "        return valor\n",
    "#definimos una funcion que elimine las letras de los valores que sigan el patron dado\n",
    "df['case_number'] = df['case_number'].apply(limpiar_valor)\n",
    "cantidad_no_cumplen_patron = len(df[~df['case_number'].str.contains(r\"\\d{4}\\.\\d{2}\\.\\d{2}\")])\n",
    "cantidad_no_cumplen_patron # comprobamos cuantos valores no siguen el patron "
   ]
  },
  {
   "cell_type": "code",
   "execution_count": null,
   "id": "4a010eeb",
   "metadata": {},
   "outputs": [],
   "source": []
  },
  {
   "cell_type": "code",
   "execution_count": 30,
   "id": "1d3e7aa1",
   "metadata": {},
   "outputs": [],
   "source": [
    "#df = df[df['columna'].str.match(r\"\\d{4}\\.\\d{2}\\.\\d{2}\")]"
   ]
  }
 ],
 "metadata": {
  "kernelspec": {
   "display_name": "base",
   "language": "python",
   "name": "base"
  },
  "language_info": {
   "codemirror_mode": {
    "name": "ipython",
    "version": 3
   },
   "file_extension": ".py",
   "mimetype": "text/x-python",
   "name": "python",
   "nbconvert_exporter": "python",
   "pygments_lexer": "ipython3",
   "version": "3.10.9"
  }
 },
 "nbformat": 4,
 "nbformat_minor": 5
}
